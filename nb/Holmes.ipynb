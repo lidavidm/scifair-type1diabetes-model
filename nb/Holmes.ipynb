{
 "metadata": {
  "name": ""
 },
 "nbformat": 3,
 "nbformat_minor": 0,
 "worksheets": [
  {
   "cells": [
    {
     "cell_type": "code",
     "collapsed": false,
     "input": [
      "from sympy import *\n",
      "init_session()"
     ],
     "language": "python",
     "metadata": {},
     "outputs": [
      {
       "output_type": "stream",
       "stream": "stdout",
       "text": [
        "IPython console for SymPy 0.7.4.1-git (Python 3.3.3-64-bit) (ground types: python)\n",
        "\n",
        "These commands were executed:\n",
        ">>> from __future__ import division\n",
        ">>> from sympy import *\n",
        ">>> x, y, z, t = symbols('x y z t')\n",
        ">>> k, m, n = symbols('k m n', integer=True)\n",
        ">>> f, g, h = symbols('f g h', cls=Function)\n",
        "\n",
        "Documentation can be found at http://www.sympy.org\n"
       ]
      }
     ],
     "prompt_number": 4
    },
    {
     "cell_type": "code",
     "collapsed": false,
     "input": [
      "var('theta epsilon alpha y0 y1 q')"
     ],
     "language": "python",
     "metadata": {},
     "outputs": [
      {
       "latex": [
        "$$\\begin{pmatrix}\\theta, & \\epsilon, & \\alpha, & y_{0}, & y_{1}, & q\\end{pmatrix}$$"
       ],
       "metadata": {},
       "output_type": "pyout",
       "png": "[encoded data removed]",
       "prompt_number": 5,
       "text": [
        "(\u03b8, \u03b5, \u03b1, y\u2080, y\u2081, q)"
       ]
      }
     ],
     "prompt_number": 5
    },
    {
     "cell_type": "code",
     "collapsed": false,
     "input": [
      "y = exp(theta(x)/epsilon**alpha) * (y0(x) + epsilon**alpha * y1(x))\n",
      "y"
     ],
     "language": "python",
     "metadata": {},
     "outputs": [
      {
       "latex": [
        "$$\\left(\\epsilon^{\\alpha} \\operatorname{y1}{\\left (x \\right )} + \\operatorname{y0}{\\left (x \\right )}\\right) e^{\\epsilon^{- \\alpha} \\theta{\\left (x \\right )}}$$"
       ],
       "metadata": {},
       "output_type": "pyout",
       "png": "[encoded data removed]",
       "prompt_number": 6,
       "text": [
        "                     -\u03b1     \n",
        "\u239b \u03b1              \u239e  \u03b5  \u22c5\u03b8(x)\n",
        "\u239d\u03b5 \u22c5y\u2081(x) + y\u2080(x)\u23a0\u22c5\u212f        "
       ]
      }
     ],
     "prompt_number": 6
    },
    {
     "cell_type": "code",
     "collapsed": false,
     "input": [
      "yp = y.diff(x).factor()\n",
      "yp = yp.args[2] * expand(yp.args[0] * yp.args[1])\n",
      "yp"
     ],
     "language": "python",
     "metadata": {},
     "outputs": [
      {
       "latex": [
        "$$\\left(\\epsilon^{\\alpha} \\frac{d}{d x} \\operatorname{y1}{\\left (x \\right )} + \\operatorname{y1}{\\left (x \\right )} \\frac{d}{d x} \\theta{\\left (x \\right )} + \\frac{d}{d x} \\operatorname{y0}{\\left (x \\right )} + \\epsilon^{- \\alpha} \\operatorname{y0}{\\left (x \\right )} \\frac{d}{d x} \\theta{\\left (x \\right )}\\right) e^{\\epsilon^{- \\alpha} \\theta{\\left (x \\right )}}$$"
       ],
       "metadata": {},
       "output_type": "pyout",
       "png": "[encoded data removed]",
       "prompt_number": 7,
       "text": [
        "                                                                   -\u03b1     \n",
        "\u239b \u03b1 d                 d          d            -\u03b1       d       \u239e  \u03b5  \u22c5\u03b8(x)\n",
        "\u239c\u03b5 \u22c5\u2500\u2500(y\u2081(x)) + y\u2081(x)\u22c5\u2500\u2500(\u03b8(x)) + \u2500\u2500(y\u2080(x)) + \u03b5  \u22c5y\u2080(x)\u22c5\u2500\u2500(\u03b8(x))\u239f\u22c5\u212f        \n",
        "\u239d   dx                dx         dx                    dx      \u23a0          "
       ]
      }
     ],
     "prompt_number": 7
    },
    {
     "cell_type": "code",
     "collapsed": false,
     "input": [
      "ypp = yp.diff(x).combsimp()\n",
      "ypp = ypp.args[2] * expand(ypp.args[0] * ypp.args[1])\n",
      "ypp"
     ],
     "language": "python",
     "metadata": {},
     "outputs": [
      {
       "latex": [
        "$$\\left(\\epsilon^{\\alpha} \\frac{d^{2}}{d x^{2}}  \\operatorname{y1}{\\left (x \\right )} + \\operatorname{y1}{\\left (x \\right )} \\frac{d^{2}}{d x^{2}}  \\theta{\\left (x \\right )} + 2 \\frac{d}{d x} \\theta{\\left (x \\right )} \\frac{d}{d x} \\operatorname{y1}{\\left (x \\right )} + \\frac{d^{2}}{d x^{2}}  \\operatorname{y0}{\\left (x \\right )} + \\epsilon^{- \\alpha} \\operatorname{y0}{\\left (x \\right )} \\frac{d^{2}}{d x^{2}}  \\theta{\\left (x \\right )} + \\epsilon^{- \\alpha} \\operatorname{y1}{\\left (x \\right )} \\left(\\frac{d}{d x} \\theta{\\left (x \\right )}\\right)^{2} + 2 \\epsilon^{- \\alpha} \\frac{d}{d x} \\theta{\\left (x \\right )} \\frac{d}{d x} \\operatorname{y0}{\\left (x \\right )} + \\epsilon^{- 2 \\alpha} \\operatorname{y0}{\\left (x \\right )} \\left(\\frac{d}{d x} \\theta{\\left (x \\right )}\\right)^{2}\\right) e^{\\epsilon^{- \\alpha} \\theta{\\left (x \\right )}}$$"
       ],
       "metadata": {},
       "output_type": "pyout",
       "png": "[encoded data removed]",
       "prompt_number": 8,
       "text": [
        "\u239b     2                  2                                  2                 \n",
        "\u239c \u03b1  d                  d            d        d            d            -\u03b1    \n",
        "\u239c\u03b5 \u22c5\u2500\u2500\u2500(y\u2081(x)) + y\u2081(x)\u22c5\u2500\u2500\u2500(\u03b8(x)) + 2\u22c5\u2500\u2500(\u03b8(x))\u22c5\u2500\u2500(y\u2081(x)) + \u2500\u2500\u2500(y\u2080(x)) + \u03b5  \u22c5y\u2080(\n",
        "\u239c     2                  2           dx       dx            2                 \n",
        "\u239d   dx                 dx                                 dx                  \n",
        "\n",
        "     2                             2                                          \n",
        "    d           -\u03b1       \u239bd       \u239e       -\u03b1 d        d            -2\u22c5\u03b1       \n",
        "x)\u22c5\u2500\u2500\u2500(\u03b8(x)) + \u03b5  \u22c5y\u2081(x)\u22c5\u239c\u2500\u2500(\u03b8(x))\u239f  + 2\u22c5\u03b5  \u22c5\u2500\u2500(\u03b8(x))\u22c5\u2500\u2500(y\u2080(x)) + \u03b5    \u22c5y\u2080(x)\u22c5\n",
        "     2                   \u239ddx      \u23a0          dx       dx                      \n",
        "   dx                                                                         \n",
        "\n",
        "          2\u239e   -\u03b1     \n",
        "\u239bd       \u239e \u239f  \u03b5  \u22c5\u03b8(x)\n",
        "\u239c\u2500\u2500(\u03b8(x))\u239f \u239f\u22c5\u212f        \n",
        "\u239ddx      \u23a0 \u239f          \n",
        "           \u23a0          "
       ]
      }
     ],
     "prompt_number": 8
    },
    {
     "cell_type": "code",
     "collapsed": false,
     "input": [
      "f = epsilon * ypp + 2*yp + 2*y"
     ],
     "language": "python",
     "metadata": {},
     "outputs": [],
     "prompt_number": 11
    },
    {
     "cell_type": "code",
     "collapsed": false,
     "input": [
      "f"
     ],
     "language": "python",
     "metadata": {},
     "outputs": [
      {
       "latex": [
        "$$\\epsilon \\left(\\epsilon^{\\alpha} \\frac{d^{2}}{d x^{2}}  \\operatorname{y1}{\\left (x \\right )} + \\operatorname{y1}{\\left (x \\right )} \\frac{d^{2}}{d x^{2}}  \\theta{\\left (x \\right )} + 2 \\frac{d}{d x} \\theta{\\left (x \\right )} \\frac{d}{d x} \\operatorname{y1}{\\left (x \\right )} + \\frac{d^{2}}{d x^{2}}  \\operatorname{y0}{\\left (x \\right )} + \\epsilon^{- \\alpha} \\operatorname{y0}{\\left (x \\right )} \\frac{d^{2}}{d x^{2}}  \\theta{\\left (x \\right )} + \\epsilon^{- \\alpha} \\operatorname{y1}{\\left (x \\right )} \\left(\\frac{d}{d x} \\theta{\\left (x \\right )}\\right)^{2} + 2 \\epsilon^{- \\alpha} \\frac{d}{d x} \\theta{\\left (x \\right )} \\frac{d}{d x} \\operatorname{y0}{\\left (x \\right )} + \\epsilon^{- 2 \\alpha} \\operatorname{y0}{\\left (x \\right )} \\left(\\frac{d}{d x} \\theta{\\left (x \\right )}\\right)^{2}\\right) e^{\\epsilon^{- \\alpha} \\theta{\\left (x \\right )}} + 2 \\left(\\epsilon^{\\alpha} \\operatorname{y1}{\\left (x \\right )} + \\operatorname{y0}{\\left (x \\right )}\\right) e^{\\epsilon^{- \\alpha} \\theta{\\left (x \\right )}} + 2 \\left(\\epsilon^{\\alpha} \\frac{d}{d x} \\operatorname{y1}{\\left (x \\right )} + \\operatorname{y1}{\\left (x \\right )} \\frac{d}{d x} \\theta{\\left (x \\right )} + \\frac{d}{d x} \\operatorname{y0}{\\left (x \\right )} + \\epsilon^{- \\alpha} \\operatorname{y0}{\\left (x \\right )} \\frac{d}{d x} \\theta{\\left (x \\right )}\\right) e^{\\epsilon^{- \\alpha} \\theta{\\left (x \\right )}}$$"
       ],
       "metadata": {},
       "output_type": "pyout",
       "png": "[encoded data removed]",
       "prompt_number": 12,
       "text": [
        "  \u239b     2                  2                                  2               \n",
        "  \u239c \u03b1  d                  d            d        d            d            -\u03b1  \n",
        "\u03b5\u22c5\u239c\u03b5 \u22c5\u2500\u2500\u2500(y\u2081(x)) + y\u2081(x)\u22c5\u2500\u2500\u2500(\u03b8(x)) + 2\u22c5\u2500\u2500(\u03b8(x))\u22c5\u2500\u2500(y\u2081(x)) + \u2500\u2500\u2500(y\u2080(x)) + \u03b5  \u22c5y\n",
        "  \u239c     2                  2           dx       dx            2               \n",
        "  \u239d   dx                 dx                                 dx                \n",
        "\n",
        "       2                             2                                        \n",
        "      d           -\u03b1       \u239bd       \u239e       -\u03b1 d        d            -2\u22c5\u03b1     \n",
        "\u2080(x)\u22c5\u2500\u2500\u2500(\u03b8(x)) + \u03b5  \u22c5y\u2081(x)\u22c5\u239c\u2500\u2500(\u03b8(x))\u239f  + 2\u22c5\u03b5  \u22c5\u2500\u2500(\u03b8(x))\u22c5\u2500\u2500(y\u2080(x)) + \u03b5    \u22c5y\u2080(x\n",
        "       2                   \u239ddx      \u23a0          dx       dx                    \n",
        "     dx                                                                       \n",
        "\n",
        "            2\u239e   -\u03b1                               -\u03b1                          \n",
        "  \u239bd       \u239e \u239f  \u03b5  \u22c5\u03b8(x)     \u239b \u03b1              \u239e  \u03b5  \u22c5\u03b8(x)     \u239b \u03b1 d           \n",
        ")\u22c5\u239c\u2500\u2500(\u03b8(x))\u239f \u239f\u22c5\u212f         + 2\u22c5\u239d\u03b5 \u22c5y\u2081(x) + y\u2080(x)\u23a0\u22c5\u212f         + 2\u22c5\u239c\u03b5 \u22c5\u2500\u2500(y\u2081(x)) + \n",
        "  \u239ddx      \u23a0 \u239f                                                \u239d   dx          \n",
        "             \u23a0                                                                \n",
        "\n",
        "                                                   -\u03b1     \n",
        "      d          d            -\u03b1       d       \u239e  \u03b5  \u22c5\u03b8(x)\n",
        "y\u2081(x)\u22c5\u2500\u2500(\u03b8(x)) + \u2500\u2500(y\u2080(x)) + \u03b5  \u22c5y\u2080(x)\u22c5\u2500\u2500(\u03b8(x))\u239f\u22c5\u212f        \n",
        "      dx         dx                    dx      \u23a0          \n",
        "                                                          "
       ]
      }
     ],
     "prompt_number": 12
    },
    {
     "cell_type": "code",
     "collapsed": false,
     "input": [],
     "language": "python",
     "metadata": {},
     "outputs": []
    }
   ],
   "metadata": {}
  }
 ]
}