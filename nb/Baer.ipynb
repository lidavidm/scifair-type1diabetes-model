{
 "metadata": {
  "name": ""
 },
 "nbformat": 3,
 "nbformat_minor": 0,
 "worksheets": [
  {
   "cells": [
    {
     "cell_type": "code",
     "collapsed": false,
     "input": [
      "from sympy import *\n",
      "init_session()"
     ],
     "language": "python",
     "metadata": {},
     "outputs": [
      {
       "output_type": "stream",
       "stream": "stdout",
       "text": [
        "IPython console for SymPy 0.7.4.1-git (Python 3.3.3-64-bit) (ground types: python)\n",
        "\n",
        "These commands were executed:\n",
        ">>> from __future__ import division\n",
        ">>> from sympy import *\n",
        ">>> x, y, z, t = symbols('x y z t')\n",
        ">>> k, m, n = symbols('k m n', integer=True)\n",
        ">>> f, g, h = symbols('f g h', cls=Function)\n",
        "\n",
        "Documentation can be found at http://www.sympy.org\n"
       ]
      }
     ],
     "prompt_number": 1
    },
    {
     "cell_type": "code",
     "collapsed": false,
     "input": [
      "v, w = Function(\"v\")(t), Function(\"w\")(t)\n",
      "Ii = symbols(\"I_i\")\n",
      "var('tau a b gamma epsilon p q v_s w_s lambda_')"
     ],
     "language": "python",
     "metadata": {},
     "outputs": [
      {
       "latex": [
        "$$\\begin{pmatrix}\\tau, & a, & b, & \\gamma, & \\epsilon, & p, & q, & v_{s}, & w_{s}, & \\lambda_{}\\end{pmatrix}$$"
       ],
       "metadata": {},
       "output_type": "pyout",
       "png": "[encoded data removed]",
       "prompt_number": 16,
       "text": [
        "(\u03c4, a, b, \u03b3, \u03b5, p, q, v_s, w_s, \u03bb)"
       ]
      }
     ],
     "prompt_number": 16
    },
    {
     "cell_type": "code",
     "collapsed": false,
     "input": [
      "I = Ii + tau"
     ],
     "language": "python",
     "metadata": {},
     "outputs": [],
     "prompt_number": 3
    },
    {
     "cell_type": "code",
     "collapsed": false,
     "input": [
      "dv = (-v*(v-a)*(v-1) - w + I).expand()\n",
      "dw = (b*(v - gamma*w)).expand()"
     ],
     "language": "python",
     "metadata": {},
     "outputs": [],
     "prompt_number": 12
    },
    {
     "cell_type": "code",
     "collapsed": false,
     "input": [
      "dv.subs({v: v_s + p*exp(lambda_*t), w: w_s + q*exp(lambda_*t)}).expand()"
     ],
     "language": "python",
     "metadata": {},
     "outputs": [
      {
       "latex": [
        "$$I_{i} + a p^{2} e^{2 \\lambda_{} t} + 2 a p v_{s} e^{\\lambda_{} t} - a p e^{\\lambda_{} t} + a v_{s}^{2} - a v_{s} - p^{3} e^{3 \\lambda_{} t} - 3 p^{2} v_{s} e^{2 \\lambda_{} t} + p^{2} e^{2 \\lambda_{} t} - 3 p v_{s}^{2} e^{\\lambda_{} t} + 2 p v_{s} e^{\\lambda_{} t} - q e^{\\lambda_{} t} + \\tau - v_{s}^{3} + v_{s}^{2} - w_{s}$$"
       ],
       "metadata": {},
       "output_type": "pyout",
       "png": "[encoded data removed]",
       "prompt_number": 21,
       "text": [
        "        2  2\u22c5\u03bb\u22c5t              \u03bb\u22c5t        \u03bb\u22c5t        2            3  3\u22c5\u03bb\u22c5t     \n",
        "I\u1d62 + a\u22c5p \u22c5\u212f      + 2\u22c5a\u22c5p\u22c5v_s\u22c5\u212f    - a\u22c5p\u22c5\u212f    + a\u22c5v_s  - a\u22c5v_s - p \u22c5\u212f      - 3\u22c5\n",
        "\n",
        " 2      2\u22c5\u03bb\u22c5t    2  2\u22c5\u03bb\u22c5t          2  \u03bb\u22c5t            \u03bb\u22c5t      \u03bb\u22c5t          3  \n",
        "p \u22c5v_s\u22c5\u212f      + p \u22c5\u212f      - 3\u22c5p\u22c5v_s \u22c5\u212f    + 2\u22c5p\u22c5v_s\u22c5\u212f    - q\u22c5\u212f    + \u03c4 - v_s  +\n",
        "\n",
        "    2      \n",
        " v_s  - w_s"
       ]
      }
     ],
     "prompt_number": 21
    },
    {
     "cell_type": "code",
     "collapsed": false,
     "input": [
      "dw.subs({v: v_s + p*exp(lambda_*t), w: w_s + q*exp(lambda_*t)}).expand()"
     ],
     "language": "python",
     "metadata": {},
     "outputs": [
      {
       "latex": [
        "$$- b \\gamma q e^{\\lambda_{} t} - b \\gamma w_{s} + b p e^{\\lambda_{} t} + b v_{s}$$"
       ],
       "metadata": {},
       "output_type": "pyout",
       "png": "[encoded data removed]",
       "prompt_number": 22,
       "text": [
        "         \u03bb\u22c5t                  \u03bb\u22c5t        \n",
        "- b\u22c5\u03b3\u22c5q\u22c5\u212f    - b\u22c5\u03b3\u22c5w_s + b\u22c5p\u22c5\u212f    + b\u22c5v_s"
       ]
      }
     ],
     "prompt_number": 22
    },
    {
     "cell_type": "code",
     "collapsed": false,
     "input": [
      "m = Matrix([[-(v-a)*(v-1), -1], [b, -b*gamma]])"
     ],
     "language": "python",
     "metadata": {},
     "outputs": [],
     "prompt_number": 23
    },
    {
     "cell_type": "code",
     "collapsed": false,
     "input": [
      "m"
     ],
     "language": "python",
     "metadata": {},
     "outputs": [
      {
       "latex": [
        "$$\\left[\\begin{matrix}\\left(a - v{\\left (t \\right )}\\right) \\left(v{\\left (t \\right )} - 1\\right) & -1\\\\b & - b \\gamma\\end{matrix}\\right]$$"
       ],
       "metadata": {},
       "output_type": "pyout",
       "png": "[encoded data removed]",
       "prompt_number": 24,
       "text": [
        "\u23a1(a - v(t))\u22c5(v(t) - 1)   -1 \u23a4\n",
        "\u23a2                           \u23a5\n",
        "\u23a3          b            -b\u22c5\u03b3\u23a6"
       ]
      }
     ],
     "prompt_number": 24
    },
    {
     "cell_type": "code",
     "collapsed": false,
     "input": [
      "m.berkowitz_charpoly()"
     ],
     "language": "python",
     "metadata": {},
     "outputs": [
      {
       "latex": [
        "$$\\operatorname{PurePoly}{\\left( \\lambda^{2} + \\lambda \\left(- a v{\\left (t \\right )} + a + b \\gamma + v^{2}{\\left (t \\right )} - v{\\left (t \\right )}\\right) - a b \\gamma v{\\left (t \\right )} + a b \\gamma + b \\gamma v^{2}{\\left (t \\right )} - b \\gamma v{\\left (t \\right )} + b, \\lambda, domain=\\mathbb{Z}\\left[a, b, \\gamma, v{\\left (t \\right )}\\right] \\right)}$$"
       ],
       "metadata": {},
       "output_type": "pyout",
       "png": "[encoded data removed]",
       "prompt_number": 26,
       "text": [
        "PurePoly(_lambda**2 + (-a*v(t) + a + b*gamma + v(t)**2 - v(t))*_lambda - a*b*g\n",
        "amma*v(t) + a*b*gamma + b*gamma*v(t)**2 - b*gamma*v(t) + b, _lambda, domain='Z\n",
        "Z[a,b,gamma,v(t)]')"
       ]
      }
     ],
     "prompt_number": 26
    },
    {
     "cell_type": "code",
     "collapsed": false,
     "input": [
      "expand(b*((diff(x*(x-a)*(x-1), x).expand().subs(x, v) * gamma) + 1))"
     ],
     "language": "python",
     "metadata": {},
     "outputs": [
      {
       "latex": [
        "$$- 2 a b \\gamma v{\\left (t \\right )} + a b \\gamma + 3 b \\gamma v^{2}{\\left (t \\right )} - 2 b \\gamma v{\\left (t \\right )} + b$$"
       ],
       "metadata": {},
       "output_type": "pyout",
       "png": "[encoded data removed]",
       "prompt_number": 32,
       "text": [
        "                               2                    \n",
        "-2\u22c5a\u22c5b\u22c5\u03b3\u22c5v(t) + a\u22c5b\u22c5\u03b3 + 3\u22c5b\u22c5\u03b3\u22c5v (t) - 2\u22c5b\u22c5\u03b3\u22c5v(t) + b"
       ]
      }
     ],
     "prompt_number": 32
    },
    {
     "cell_type": "code",
     "collapsed": false,
     "input": [
      "expand(diff(x*(x-a)*(x-1), x).expand().subs(x, v) + b*gamma)"
     ],
     "language": "python",
     "metadata": {},
     "outputs": [
      {
       "latex": [
        "$$- 2 a v{\\left (t \\right )} + a + b \\gamma + 3 v^{2}{\\left (t \\right )} - 2 v{\\left (t \\right )}$$"
       ],
       "metadata": {},
       "output_type": "pyout",
       "png": "[encoded data removed]",
       "prompt_number": 33,
       "text": [
        "                         2            \n",
        "-2\u22c5a\u22c5v(t) + a + b\u22c5\u03b3 + 3\u22c5v (t) - 2\u22c5v(t)"
       ]
      }
     ],
     "prompt_number": 33
    },
    {
     "cell_type": "code",
     "collapsed": false,
     "input": [],
     "language": "python",
     "metadata": {},
     "outputs": []
    }
   ],
   "metadata": {}
  }
 ]
}