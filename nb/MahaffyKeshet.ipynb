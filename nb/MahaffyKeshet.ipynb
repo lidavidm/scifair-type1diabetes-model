{
 "metadata": {
  "name": ""
 },
 "nbformat": 3,
 "nbformat_minor": 0,
 "worksheets": [
  {
   "cells": [
    {
     "cell_type": "code",
     "collapsed": false,
     "input": [
      "from sympy import *\n",
      "init_session()"
     ],
     "language": "python",
     "metadata": {},
     "outputs": [
      {
       "output_type": "stream",
       "stream": "stdout",
       "text": [
        "IPython console for SymPy 0.7.4.1-git (Python 3.3.3-64-bit) (ground types: python)\n",
        "\n",
        "These commands were executed:\n",
        ">>> from __future__ import division\n",
        ">>> from sympy import *\n",
        ">>> x, y, z, t = symbols('x y z t')\n",
        ">>> k, m, n = symbols('k m n', integer=True)\n",
        ">>> f, g, h = symbols('f g h', cls=Function)\n",
        "\n",
        "Documentation can be found at http://www.sympy.org\n"
       ]
      }
     ],
     "prompt_number": 2
    },
    {
     "cell_type": "code",
     "collapsed": false,
     "input": [
      "alpha, beta, sigma, epsilon, deltaA, deltaM, deltaE = symbols('alpha beta sigma epsilon delta_A delta_M delta_E')\n",
      "k1, k2 = symbols('k1 k2')\n",
      "a, R, deltaP = symbols('a R delta_P')\n",
      "B = 1"
     ],
     "language": "python",
     "metadata": {},
     "outputs": [],
     "prompt_number": 3
    },
    {
     "cell_type": "code",
     "collapsed": false,
     "input": [
      "A, M, E = Function(\"A\")(t), Function(\"M\")(t), Function(\"E\")(t)"
     ],
     "language": "python",
     "metadata": {},
     "outputs": [],
     "prompt_number": 4
    },
    {
     "cell_type": "code",
     "collapsed": false,
     "input": [
      "f1 = lambda p: p**3/(k1 + p**3)\n",
      "f2 = lambda p: a*k2**2/(k2**2 + p**2)\n",
      "p = (R*B*E)/deltaP"
     ],
     "language": "python",
     "metadata": {},
     "outputs": [],
     "prompt_number": 5
    },
    {
     "cell_type": "code",
     "collapsed": false,
     "input": [
      "dA = (sigma + alpha*M)*f1(p) - (beta + deltaA)*A - epsilon*A**2\n",
      "dM = 8*beta*f2(p)*A - f1(p)*alpha*M - deltaM*M \n",
      "dE = 60*beta*(1 - f2(p))*A - deltaE*E"
     ],
     "language": "python",
     "metadata": {},
     "outputs": [],
     "prompt_number": 6
    },
    {
     "cell_type": "code",
     "collapsed": false,
     "input": [
      "dA"
     ],
     "language": "python",
     "metadata": {},
     "outputs": [
      {
       "latex": [
        "$$\\frac{R^{3} \\left(\\alpha M{\\left (t \\right )} + \\sigma\\right) E^{3}{\\left (t \\right )}}{\\delta_{P}^{3} \\left(\\frac{R^{3}}{\\delta_{P}^{3}} E^{3}{\\left (t \\right )} + k_{1}\\right)} - \\epsilon A^{2}{\\left (t \\right )} - \\left(\\beta + \\delta_{A}\\right) A{\\left (t \\right )}$$"
       ],
       "metadata": {},
       "output_type": "pyout",
       "png": "[encoded data removed]",
       "prompt_number": 7,
       "text": [
        " 3               3                              \n",
        "R \u22c5(\u03b1\u22c5M(t) + \u03c3)\u22c5E (t)      2                    \n",
        "\u2500\u2500\u2500\u2500\u2500\u2500\u2500\u2500\u2500\u2500\u2500\u2500\u2500\u2500\u2500\u2500\u2500\u2500\u2500\u2500\u2500 - \u03b5\u22c5A (t) - (\u03b2 + \u03b4_A)\u22c5A(t)\n",
        "      \u239b 3  3        \u239e                           \n",
        "    3 \u239cR \u22c5E (t)     \u239f                           \n",
        " \u03b4_P \u22c5\u239c\u2500\u2500\u2500\u2500\u2500\u2500\u2500\u2500 + k\u2081\u239f                           \n",
        "      \u239c     3       \u239f                           \n",
        "      \u239d  \u03b4_P        \u23a0                           "
       ]
      }
     ],
     "prompt_number": 7
    },
    {
     "cell_type": "code",
     "collapsed": false,
     "input": [
      "dM"
     ],
     "language": "python",
     "metadata": {},
     "outputs": [
      {
       "latex": [
        "$$- \\frac{R^{3} \\alpha E^{3}{\\left (t \\right )} M{\\left (t \\right )}}{\\delta_{P}^{3} \\left(\\frac{R^{3}}{\\delta_{P}^{3}} E^{3}{\\left (t \\right )} + k_{1}\\right)} + \\frac{8 a \\beta k_{2}^{2} A{\\left (t \\right )}}{\\frac{R^{2}}{\\delta_{P}^{2}} E^{2}{\\left (t \\right )} + k_{2}^{2}} - \\delta_{M} M{\\left (t \\right )}$$"
       ],
       "metadata": {},
       "output_type": "pyout",
       "png": "[encoded data removed]",
       "prompt_number": 8,
       "text": [
        "     3    3                      2                \n",
        "    R \u22c5\u03b1\u22c5E (t)\u22c5M(t)      8\u22c5a\u22c5\u03b2\u22c5k\u2082 \u22c5A(t)           \n",
        "- \u2500\u2500\u2500\u2500\u2500\u2500\u2500\u2500\u2500\u2500\u2500\u2500\u2500\u2500\u2500\u2500\u2500\u2500\u2500\u2500 + \u2500\u2500\u2500\u2500\u2500\u2500\u2500\u2500\u2500\u2500\u2500\u2500\u2500\u2500 - \u03b4_M\u22c5M(t)\n",
        "       \u239b 3  3        \u239e    2  2                    \n",
        "     3 \u239cR \u22c5E (t)     \u239f   R \u22c5E (t)     2           \n",
        "  \u03b4_P \u22c5\u239c\u2500\u2500\u2500\u2500\u2500\u2500\u2500\u2500 + k\u2081\u239f   \u2500\u2500\u2500\u2500\u2500\u2500\u2500\u2500 + k\u2082            \n",
        "       \u239c     3       \u239f        2                   \n",
        "       \u239d  \u03b4_P        \u23a0     \u03b4_P                    "
       ]
      }
     ],
     "prompt_number": 8
    },
    {
     "cell_type": "code",
     "collapsed": false,
     "input": [
      "dE"
     ],
     "language": "python",
     "metadata": {},
     "outputs": [
      {
       "latex": [
        "$$60 \\beta \\left(- \\frac{a k_{2}^{2}}{\\frac{R^{2}}{\\delta_{P}^{2}} E^{2}{\\left (t \\right )} + k_{2}^{2}} + 1\\right) A{\\left (t \\right )} - \\delta_{E} E{\\left (t \\right )}$$"
       ],
       "metadata": {},
       "output_type": "pyout",
       "png": "[encoded data removed]",
       "prompt_number": 9,
       "text": [
        "     \u239b          2         \u239e                \n",
        "     \u239c      a\u22c5k\u2082          \u239f                \n",
        "60\u22c5\u03b2\u22c5\u239c- \u2500\u2500\u2500\u2500\u2500\u2500\u2500\u2500\u2500\u2500\u2500\u2500\u2500\u2500 + 1\u239f\u22c5A(t) - \u03b4_E\u22c5E(t)\n",
        "     \u239c   2  2             \u239f                \n",
        "     \u239c  R \u22c5E (t)     2    \u239f                \n",
        "     \u239c  \u2500\u2500\u2500\u2500\u2500\u2500\u2500\u2500 + k\u2082     \u239f                \n",
        "     \u239c       2            \u239f                \n",
        "     \u239d    \u03b4_P             \u23a0                "
       ]
      }
     ],
     "prompt_number": 9
    },
    {
     "cell_type": "code",
     "collapsed": false,
     "input": [
      "A, M, E = symbols('A M E')\n",
      "k1 = 2\n",
      "k2 = 1\n",
      "m = 3\n",
      "a = 0.7\n",
      "sigma = 0.02\n",
      "alpha = 20\n",
      "epsilon = 1\n",
      "deltaM = 0.01\n",
      "deltaP = 1\n",
      "deltaE = 0.3\n",
      "R = 50\n",
      "f1 = lambda p: p**3/(k1 + p**3)\n",
      "f2 = lambda p: a*k2**2/(k2**2 + p**2)\n",
      "p = (R*B*E)/deltaP\n",
      "lm = Matrix([(sigma + alpha*M)*f1(p) - (1)*A - epsilon*A**2, f2(p)*A - f1(p)*alpha*M - deltaM*M , 0.1*(1 - f2(p))*A - deltaE*E])\n",
      "J = lm.jacobian(Matrix([A, M, E]))"
     ],
     "language": "python",
     "metadata": {},
     "outputs": [],
     "prompt_number": 19
    },
    {
     "cell_type": "code",
     "collapsed": false,
     "input": [
      "[N(temp) for temp in J.subs({ A: 0.07016951, M: 0.007120757, E: 0.02117123 }).eigenvals().keys()]"
     ],
     "language": "python",
     "metadata": {},
     "outputs": [
      {
       "latex": [
        "$$\\begin{bmatrix}-0.625038327883738 + 1.0 \\cdot 10^{-22} i, & -0.275557641844199 - 1.0 \\cdot 10^{-22} i, & -7.87987121624758 - 7.0 \\cdot 10^{-24} i\\end{bmatrix}$$"
       ],
       "metadata": {},
       "output_type": "pyout",
       "png": "[encoded data removed]",
       "prompt_number": 25,
       "text": [
        "[-0.625038327883738 + 0.e-22\u22c5\u2148, -0.275557641844199 - 0.e-22\u22c5\u2148, -7.879871216247\n",
        "58 - 0.e-23\u22c5\u2148]"
       ]
      }
     ],
     "prompt_number": 25
    },
    {
     "cell_type": "code",
     "collapsed": false,
     "input": [
      "charpoly = lm.berkowitz_charpoly().as_expr()\n",
      "charpoly"
     ],
     "language": "python",
     "metadata": {},
     "outputs": [
      {
       "latex": [
        "$$\\lambda^{3} + \\frac{\\lambda^{2}}{62500 E^{3}{\\left (t \\right )} + 1} \\left(\\left(A{\\left (t \\right )} + 1.31\\right) \\left(62500 E^{3}{\\left (t \\right )} + 1\\right) + 1250000 E^{3}{\\left (t \\right )}\\right) + \\frac{1.0 \\lambda}{312500000.0 E^{5}{\\left (t \\right )} + 125000.0 E^{3}{\\left (t \\right )} + 5000.0 E^{2}{\\left (t \\right )} + 2.0} \\left(6346875000.0 A{\\left (t \\right )} E^{5}{\\left (t \\right )} + 2538750.0 A{\\left (t \\right )} E^{3}{\\left (t \\right )} + 1550.0 A{\\left (t \\right )} E^{2}{\\left (t \\right )} + 0.62 A{\\left (t \\right )} + 8222812500.0 E^{5}{\\left (t \\right )} - 31250000.0 E^{4}{\\left (t \\right )} + 1539125.0 E^{3}{\\left (t \\right )} - 2185.0 E^{2}{\\left (t \\right )} + 0.626\\right) + \\frac{1}{\\left(2500 E^{2}{\\left (t \\right )} + 1\\right) \\left(62500 E^{3}{\\left (t \\right )} + 1\\right)^{2}} \\left(\\frac{1}{2} \\left(125000 \\left(A{\\left (t \\right )} + 1\\right) \\left(250.0 E^{2}{\\left (t \\right )} + 0.03\\right) - 525000.0 E{\\left (t \\right )}\\right) \\left(62500 E^{3}{\\left (t \\right )} + 1\\right) E^{2}{\\left (t \\right )} - 62500 \\left(\\left(A{\\left (t \\right )} + 1.01\\right) \\left(62500 E^{3}{\\left (t \\right )} + 1\\right) + 1250000 E^{3}{\\left (t \\right )}\\right) \\left(250.0 E^{2}{\\left (t \\right )} + 0.03\\right) E^{2}{\\left (t \\right )} + 0.15 \\left(A{\\left (t \\right )} + 1\\right) \\left(2500 E^{2}{\\left (t \\right )} + 1\\right) \\left(62500 E^{3}{\\left (t \\right )} + 1\\right) \\left(2501250.0 E^{3}{\\left (t \\right )} + 0.02\\right)\\right)$$"
       ],
       "metadata": {},
       "output_type": "pyout",
       "png": "[encoded data removed]",
       "prompt_number": 45,
       "text": [
        "                                                                              \n",
        "                                                                              \n",
        "      2 \u239b              \u239b       3       \u239e            3   \u239e         \u239b           \n",
        " 3   \u03bb \u22c5\u239d(A(t) + 1.31)\u22c5\u239d62500\u22c5E (t) + 1\u23a0 + 1250000\u22c5E (t)\u23a0   1.0\u22c5\u03bb\u22c5\u239d6346875000.\n",
        "\u03bb  + \u2500\u2500\u2500\u2500\u2500\u2500\u2500\u2500\u2500\u2500\u2500\u2500\u2500\u2500\u2500\u2500\u2500\u2500\u2500\u2500\u2500\u2500\u2500\u2500\u2500\u2500\u2500\u2500\u2500\u2500\u2500\u2500\u2500\u2500\u2500\u2500\u2500\u2500\u2500\u2500\u2500\u2500\u2500\u2500\u2500\u2500\u2500\u2500\u2500\u2500\u2500\u2500 + \u2500\u2500\u2500\u2500\u2500\u2500\u2500\u2500\u2500\u2500\u2500\u2500\u2500\u2500\u2500\u2500\u2500\u2500\n",
        "                              3                                               \n",
        "                       62500\u22c5E (t) + 1                                        \n",
        "                                                                              \n",
        "\n",
        "                                                                              \n",
        "                                                                              \n",
        "        5                      3                   2                          \n",
        "0\u22c5A(t)\u22c5E (t) + 2538750.0\u22c5A(t)\u22c5E (t) + 1550.0\u22c5A(t)\u22c5E (t) + 0.62\u22c5A(t) + 82228125\n",
        "\u2500\u2500\u2500\u2500\u2500\u2500\u2500\u2500\u2500\u2500\u2500\u2500\u2500\u2500\u2500\u2500\u2500\u2500\u2500\u2500\u2500\u2500\u2500\u2500\u2500\u2500\u2500\u2500\u2500\u2500\u2500\u2500\u2500\u2500\u2500\u2500\u2500\u2500\u2500\u2500\u2500\u2500\u2500\u2500\u2500\u2500\u2500\u2500\u2500\u2500\u2500\u2500\u2500\u2500\u2500\u2500\u2500\u2500\u2500\u2500\u2500\u2500\u2500\u2500\u2500\u2500\u2500\u2500\u2500\u2500\u2500\u2500\u2500\u2500\u2500\u2500\u2500\u2500\n",
        "                                                   5                3         \n",
        "                                      312500000.0\u22c5E (t) + 125000.0\u22c5E (t) + 500\n",
        "                                                                              \n",
        "\n",
        "                                                                          \u239b   \n",
        "                                                                          \u239d125\n",
        "      5                  4                 3              2           \u239e   \u2500\u2500\u2500\u2500\n",
        "00.0\u22c5E (t) - 31250000.0\u22c5E (t) + 1539125.0\u22c5E (t) - 2185.0\u22c5E (t) + 0.626\u23a0       \n",
        "\u2500\u2500\u2500\u2500\u2500\u2500\u2500\u2500\u2500\u2500\u2500\u2500\u2500\u2500\u2500\u2500\u2500\u2500\u2500\u2500\u2500\u2500\u2500\u2500\u2500\u2500\u2500\u2500\u2500\u2500\u2500\u2500\u2500\u2500\u2500\u2500\u2500\u2500\u2500\u2500\u2500\u2500\u2500\u2500\u2500\u2500\u2500\u2500\u2500\u2500\u2500\u2500\u2500\u2500\u2500\u2500\u2500\u2500\u2500\u2500\u2500\u2500\u2500\u2500\u2500\u2500\u2500\u2500\u2500\u2500\u2500 + \u2500\u2500\u2500\u2500\n",
        "     2                                                                        \n",
        "0.0\u22c5E (t) + 2.0                                                               \n",
        "                                                                              \n",
        "\n",
        "               \u239b       2          \u239e                \u239e \u239b       3       \u239e  2     \n",
        "000\u22c5(A(t) + 1)\u22c5\u239d250.0\u22c5E (t) + 0.03\u23a0 - 525000.0\u22c5E(t)\u23a0\u22c5\u239d62500\u22c5E (t) + 1\u23a0\u22c5E (t)  \n",
        "\u2500\u2500\u2500\u2500\u2500\u2500\u2500\u2500\u2500\u2500\u2500\u2500\u2500\u2500\u2500\u2500\u2500\u2500\u2500\u2500\u2500\u2500\u2500\u2500\u2500\u2500\u2500\u2500\u2500\u2500\u2500\u2500\u2500\u2500\u2500\u2500\u2500\u2500\u2500\u2500\u2500\u2500\u2500\u2500\u2500\u2500\u2500\u2500\u2500\u2500\u2500\u2500\u2500\u2500\u2500\u2500\u2500\u2500\u2500\u2500\u2500\u2500\u2500\u2500\u2500\u2500\u2500\u2500\u2500\u2500\u2500\u2500\u2500\u2500\u2500\u2500 -\n",
        "                                   2                                          \n",
        "\u2500\u2500\u2500\u2500\u2500\u2500\u2500\u2500\u2500\u2500\u2500\u2500\u2500\u2500\u2500\u2500\u2500\u2500\u2500\u2500\u2500\u2500\u2500\u2500\u2500\u2500\u2500\u2500\u2500\u2500\u2500\u2500\u2500\u2500\u2500\u2500\u2500\u2500\u2500\u2500\u2500\u2500\u2500\u2500\u2500\u2500\u2500\u2500\u2500\u2500\u2500\u2500\u2500\u2500\u2500\u2500\u2500\u2500\u2500\u2500\u2500\u2500\u2500\u2500\u2500\u2500\u2500\u2500\u2500\u2500\u2500\u2500\u2500\u2500\u2500\u2500\u2500\u2500\n",
        "                                                                              \n",
        "                                                                              \n",
        "                                                                              \n",
        "\n",
        "                                                                              \n",
        "       \u239b              \u239b       3       \u239e            3   \u239e \u239b       2          \u239e \n",
        " 62500\u22c5\u239d(A(t) + 1.01)\u22c5\u239d62500\u22c5E (t) + 1\u23a0 + 1250000\u22c5E (t)\u23a0\u22c5\u239d250.0\u22c5E (t) + 0.03\u23a0\u22c5\n",
        "                                                                              \n",
        "\u2500\u2500\u2500\u2500\u2500\u2500\u2500\u2500\u2500\u2500\u2500\u2500\u2500\u2500\u2500\u2500\u2500\u2500\u2500\u2500\u2500\u2500\u2500\u2500\u2500\u2500\u2500\u2500\u2500\u2500\u2500\u2500\u2500\u2500\u2500\u2500\u2500\u2500\u2500\u2500\u2500\u2500\u2500\u2500\u2500\u2500\u2500\u2500\u2500\u2500\u2500\u2500\u2500\u2500\u2500\u2500\u2500\u2500\u2500\u2500\u2500\u2500\u2500\u2500\u2500\u2500\u2500\u2500\u2500\u2500\u2500\u2500\u2500\u2500\u2500\u2500\u2500\u2500\n",
        "                                                        2                     \n",
        "                      \u239b      2       \u239e \u239b       3       \u239e                      \n",
        "                      \u239d2500\u22c5E (t) + 1\u23a0\u22c5\u239d62500\u22c5E (t) + 1\u23a0                      \n",
        "\n",
        "                                                                              \n",
        " 2                      \u239b      2       \u239e \u239b       3       \u239e \u239b           3      \n",
        "E (t) + 0.15\u22c5(A(t) + 1)\u22c5\u239d2500\u22c5E (t) + 1\u23a0\u22c5\u239d62500\u22c5E (t) + 1\u23a0\u22c5\u239d2501250.0\u22c5E (t) + \n",
        "                                                                              \n",
        "\u2500\u2500\u2500\u2500\u2500\u2500\u2500\u2500\u2500\u2500\u2500\u2500\u2500\u2500\u2500\u2500\u2500\u2500\u2500\u2500\u2500\u2500\u2500\u2500\u2500\u2500\u2500\u2500\u2500\u2500\u2500\u2500\u2500\u2500\u2500\u2500\u2500\u2500\u2500\u2500\u2500\u2500\u2500\u2500\u2500\u2500\u2500\u2500\u2500\u2500\u2500\u2500\u2500\u2500\u2500\u2500\u2500\u2500\u2500\u2500\u2500\u2500\u2500\u2500\u2500\u2500\u2500\u2500\u2500\u2500\u2500\u2500\u2500\u2500\u2500\u2500\u2500\u2500\n",
        "                                                                              \n",
        "                                                                              \n",
        "                                                                              \n",
        "\n",
        "     \n",
        "    \u239e\n",
        "0.02\u23a0\n",
        "     \n",
        "\u2500\u2500\u2500\u2500\u2500\n",
        "     \n",
        "     \n",
        "     "
       ]
      }
     ],
     "prompt_number": 45
    },
    {
     "cell_type": "code",
     "collapsed": false,
     "input": [
      "solve(charpoly.subs({A: 0.06167574, M: 0.00599124, E: 0.01866815}))"
     ],
     "language": "python",
     "metadata": {},
     "outputs": [
      {
       "latex": [
        "$$\\begin{bmatrix}-6.22412163098138 - 5.0 \\cdot 10^{-23} i, & -1.42654569846416 + 2.0 \\cdot 10^{-22} i, & 0.497518892083428 - 1.0 \\cdot 10^{-22} i\\end{bmatrix}$$"
       ],
       "metadata": {},
       "output_type": "pyout",
       "png": "[encoded data removed]",
       "prompt_number": 47,
       "text": [
        "[-6.22412163098138 - 0.e-22\u22c5\u2148, -1.42654569846416 + 0.e-22\u22c5\u2148, 0.497518892083428\n",
        " - 0.e-22\u22c5\u2148]"
       ]
      }
     ],
     "prompt_number": 47
    },
    {
     "cell_type": "code",
     "collapsed": false,
     "input": [],
     "language": "python",
     "metadata": {},
     "outputs": []
    },
    {
     "cell_type": "code",
     "collapsed": false,
     "input": [
      "ep = Symbol('Epsilon')\n",
      "var('a:10 m:10 e:10')\n",
      "Abar = a0(t) + ep*a1(t) + ep**2*a2(t)\n",
      "Mbar = m0(t) + ep*m1(t) + ep**2*m2(t)\n",
      "Ebar = a0(t) + ep*e1(t) + ep**2*e2(t)"
     ],
     "language": "python",
     "metadata": {},
     "outputs": [],
     "prompt_number": 66
    },
    {
     "cell_type": "code",
     "collapsed": false,
     "input": [
      "dAbar, dMbar, dEbar = [f.subs({A: Abar, M: Mbar, E: Ebar}) for f in (dA, dM, dE)]"
     ],
     "language": "python",
     "metadata": {},
     "outputs": [],
     "prompt_number": 67
    },
    {
     "cell_type": "code",
     "collapsed": false,
     "input": [
      "# Simplify, get rid of denominator since equations equal 0\n",
      "dAbar = fraction((dAbar - Abar.diff(t)).expand().combsimp())[0].collect(ep)\n",
      "dMbar = fraction((dMbar - Mbar.diff(t)).expand().combsimp())[0].collect(ep)\n",
      "dEbar = fraction((dMbar - Ebar.diff(t)).expand().combsimp())[0].collect(ep)"
     ],
     "language": "python",
     "metadata": {},
     "outputs": [],
     "prompt_number": 68
    },
    {
     "cell_type": "code",
     "collapsed": false,
     "input": [
      "dAbar.coeff(ep, 0).simplify()"
     ],
     "language": "python",
     "metadata": {},
     "outputs": [
      {
       "latex": [
        "$$R^{3} \\alpha \\operatorname{a0}^{3}{\\left (t \\right )} \\operatorname{m0}{\\left (t \\right )} - R^{3} \\beta \\operatorname{a0}^{4}{\\left (t \\right )} - R^{3} \\delta_{A} \\operatorname{a0}^{4}{\\left (t \\right )} - R^{3} \\epsilon \\operatorname{a0}^{5}{\\left (t \\right )} + R^{3} \\sigma \\operatorname{a0}^{3}{\\left (t \\right )} - R^{3} \\operatorname{a0}^{3}{\\left (t \\right )} \\frac{d}{d t} \\operatorname{a0}{\\left (t \\right )} - \\beta \\delta_{P}^{3} k_{1} \\operatorname{a0}{\\left (t \\right )} - \\delta_{A} \\delta_{P}^{3} k_{1} \\operatorname{a0}{\\left (t \\right )} - \\delta_{P}^{3} \\epsilon k_{1} \\operatorname{a0}^{2}{\\left (t \\right )} - \\delta_{P}^{3} k_{1} \\frac{d}{d t} \\operatorname{a0}{\\left (t \\right )}$$"
       ],
       "metadata": {},
       "output_type": "pyout",
       "png": "[encoded data removed]",
       "prompt_number": 72,
       "text": [
        " 3     3             3     4       3       4       3     5       3     3      \n",
        "R \u22c5\u03b1\u22c5a\u2080 (t)\u22c5m\u2080(t) - R \u22c5\u03b2\u22c5a\u2080 (t) - R \u22c5\u03b4_A\u22c5a\u2080 (t) - R \u22c5\u03b5\u22c5a\u2080 (t) + R \u22c5\u03c3\u22c5a\u2080 (t) - \n",
        "                                                                              \n",
        "\n",
        " 3   3    d                3                   3               3        2     \n",
        "R \u22c5a\u2080 (t)\u22c5\u2500\u2500(a\u2080(t)) - \u03b2\u22c5\u03b4_P \u22c5k\u2081\u22c5a\u2080(t) - \u03b4_A\u22c5\u03b4_P \u22c5k\u2081\u22c5a\u2080(t) - \u03b4_P \u22c5\u03b5\u22c5k\u2081\u22c5a\u2080 (t) -\n",
        "          dt                                                                  \n",
        "\n",
        "    3    d        \n",
        " \u03b4_P \u22c5k\u2081\u22c5\u2500\u2500(a\u2080(t))\n",
        "         dt       "
       ]
      }
     ],
     "prompt_number": 72
    },
    {
     "cell_type": "code",
     "collapsed": false,
     "input": [
      "dAbar.coeff(ep, 1).simplify()"
     ],
     "language": "python",
     "metadata": {},
     "outputs": [
      {
       "latex": [
        "$$R^{3} \\alpha \\operatorname{a0}^{3}{\\left (t \\right )} \\operatorname{m1}{\\left (t \\right )} + 3 R^{3} \\alpha \\operatorname{a0}^{2}{\\left (t \\right )} \\operatorname{e1}{\\left (t \\right )} \\operatorname{m0}{\\left (t \\right )} - R^{3} \\beta \\operatorname{a0}^{3}{\\left (t \\right )} \\operatorname{a1}{\\left (t \\right )} - 3 R^{3} \\beta \\operatorname{a0}^{3}{\\left (t \\right )} \\operatorname{e1}{\\left (t \\right )} - R^{3} \\delta_{A} \\operatorname{a0}^{3}{\\left (t \\right )} \\operatorname{a1}{\\left (t \\right )} - 3 R^{3} \\delta_{A} \\operatorname{a0}^{3}{\\left (t \\right )} \\operatorname{e1}{\\left (t \\right )} - 2 R^{3} \\epsilon \\operatorname{a0}^{4}{\\left (t \\right )} \\operatorname{a1}{\\left (t \\right )} - 3 R^{3} \\epsilon \\operatorname{a0}^{4}{\\left (t \\right )} \\operatorname{e1}{\\left (t \\right )} + 3 R^{3} \\sigma \\operatorname{a0}^{2}{\\left (t \\right )} \\operatorname{e1}{\\left (t \\right )} - R^{3} \\operatorname{a0}^{3}{\\left (t \\right )} \\frac{d}{d t} \\operatorname{a1}{\\left (t \\right )} - 3 R^{3} \\operatorname{a0}^{2}{\\left (t \\right )} \\operatorname{e1}{\\left (t \\right )} \\frac{d}{d t} \\operatorname{a0}{\\left (t \\right )} - \\beta \\delta_{P}^{3} k_{1} \\operatorname{a1}{\\left (t \\right )} - \\delta_{A} \\delta_{P}^{3} k_{1} \\operatorname{a1}{\\left (t \\right )} - 2 \\delta_{P}^{3} \\epsilon k_{1} \\operatorname{a0}{\\left (t \\right )} \\operatorname{a1}{\\left (t \\right )} - \\delta_{P}^{3} k_{1} \\frac{d}{d t} \\operatorname{a1}{\\left (t \\right )}$$"
       ],
       "metadata": {},
       "output_type": "pyout",
       "png": "[encoded data removed]",
       "prompt_number": 73,
       "text": [
        " 3     3               3     2                   3     3               3     3\n",
        "R \u22c5\u03b1\u22c5a\u2080 (t)\u22c5m\u2081(t) + 3\u22c5R \u22c5\u03b1\u22c5a\u2080 (t)\u22c5e\u2081(t)\u22c5m\u2080(t) - R \u22c5\u03b2\u22c5a\u2080 (t)\u22c5a\u2081(t) - 3\u22c5R \u22c5\u03b2\u22c5a\u2080 \n",
        "                                                                              \n",
        "\n",
        "             3       3               3       3               3     4          \n",
        "(t)\u22c5e\u2081(t) - R \u22c5\u03b4_A\u22c5a\u2080 (t)\u22c5a\u2081(t) - 3\u22c5R \u22c5\u03b4_A\u22c5a\u2080 (t)\u22c5e\u2081(t) - 2\u22c5R \u22c5\u03b5\u22c5a\u2080 (t)\u22c5a\u2081(t) \n",
        "                                                                              \n",
        "\n",
        "     3     4               3     2             3   3    d              3   2  \n",
        "- 3\u22c5R \u22c5\u03b5\u22c5a\u2080 (t)\u22c5e\u2081(t) + 3\u22c5R \u22c5\u03c3\u22c5a\u2080 (t)\u22c5e\u2081(t) - R \u22c5a\u2080 (t)\u22c5\u2500\u2500(a\u2081(t)) - 3\u22c5R \u22c5a\u2080 (t\n",
        "                                                        dt                    \n",
        "\n",
        "        d                3                   3                 3              \n",
        ")\u22c5e\u2081(t)\u22c5\u2500\u2500(a\u2080(t)) - \u03b2\u22c5\u03b4_P \u22c5k\u2081\u22c5a\u2081(t) - \u03b4_A\u22c5\u03b4_P \u22c5k\u2081\u22c5a\u2081(t) - 2\u22c5\u03b4_P \u22c5\u03b5\u22c5k\u2081\u22c5a\u2080(t)\u22c5a\u2081\n",
        "        dt                                                                    \n",
        "\n",
        "         3    d        \n",
        "(t) - \u03b4_P \u22c5k\u2081\u22c5\u2500\u2500(a\u2081(t))\n",
        "              dt       "
       ]
      }
     ],
     "prompt_number": 73
    },
    {
     "cell_type": "code",
     "collapsed": false,
     "input": [
      "dAbar.coeff(ep, 2).simplify()"
     ],
     "language": "python",
     "metadata": {},
     "outputs": [
      {
       "latex": [
        "$$R^{3} \\alpha \\operatorname{a0}^{3}{\\left (t \\right )} \\operatorname{m2}{\\left (t \\right )} + 3 R^{3} \\alpha \\operatorname{a0}^{2}{\\left (t \\right )} \\operatorname{e1}{\\left (t \\right )} \\operatorname{m1}{\\left (t \\right )} + 3 R^{3} \\alpha \\operatorname{a0}^{2}{\\left (t \\right )} \\operatorname{e2}{\\left (t \\right )} \\operatorname{m0}{\\left (t \\right )} + 3 R^{3} \\alpha \\operatorname{a0}{\\left (t \\right )} \\operatorname{e1}^{2}{\\left (t \\right )} \\operatorname{m0}{\\left (t \\right )} - R^{3} \\beta \\operatorname{a0}^{3}{\\left (t \\right )} \\operatorname{a2}{\\left (t \\right )} - 3 R^{3} \\beta \\operatorname{a0}^{3}{\\left (t \\right )} \\operatorname{e2}{\\left (t \\right )} - 3 R^{3} \\beta \\operatorname{a0}^{2}{\\left (t \\right )} \\operatorname{a1}{\\left (t \\right )} \\operatorname{e1}{\\left (t \\right )} - 3 R^{3} \\beta \\operatorname{a0}^{2}{\\left (t \\right )} \\operatorname{e1}^{2}{\\left (t \\right )} - R^{3} \\delta_{A} \\operatorname{a0}^{3}{\\left (t \\right )} \\operatorname{a2}{\\left (t \\right )} - 3 R^{3} \\delta_{A} \\operatorname{a0}^{3}{\\left (t \\right )} \\operatorname{e2}{\\left (t \\right )} - 3 R^{3} \\delta_{A} \\operatorname{a0}^{2}{\\left (t \\right )} \\operatorname{a1}{\\left (t \\right )} \\operatorname{e1}{\\left (t \\right )} - 3 R^{3} \\delta_{A} \\operatorname{a0}^{2}{\\left (t \\right )} \\operatorname{e1}^{2}{\\left (t \\right )} - 2 R^{3} \\epsilon \\operatorname{a0}^{4}{\\left (t \\right )} \\operatorname{a2}{\\left (t \\right )} - 3 R^{3} \\epsilon \\operatorname{a0}^{4}{\\left (t \\right )} \\operatorname{e2}{\\left (t \\right )} - R^{3} \\epsilon \\operatorname{a0}^{3}{\\left (t \\right )} \\operatorname{a1}^{2}{\\left (t \\right )} - 6 R^{3} \\epsilon \\operatorname{a0}^{3}{\\left (t \\right )} \\operatorname{a1}{\\left (t \\right )} \\operatorname{e1}{\\left (t \\right )} - 3 R^{3} \\epsilon \\operatorname{a0}^{3}{\\left (t \\right )} \\operatorname{e1}^{2}{\\left (t \\right )} + 3 R^{3} \\sigma \\operatorname{a0}^{2}{\\left (t \\right )} \\operatorname{e2}{\\left (t \\right )} + 3 R^{3} \\sigma \\operatorname{a0}{\\left (t \\right )} \\operatorname{e1}^{2}{\\left (t \\right )} - R^{3} \\operatorname{a0}^{3}{\\left (t \\right )} \\frac{d}{d t} \\operatorname{a2}{\\left (t \\right )} - 3 R^{3} \\operatorname{a0}^{2}{\\left (t \\right )} \\operatorname{e1}{\\left (t \\right )} \\frac{d}{d t} \\operatorname{a1}{\\left (t \\right )} - 3 R^{3} \\operatorname{a0}^{2}{\\left (t \\right )} \\operatorname{e2}{\\left (t \\right )} \\frac{d}{d t} \\operatorname{a0}{\\left (t \\right )} - 3 R^{3} \\operatorname{a0}{\\left (t \\right )} \\operatorname{e1}^{2}{\\left (t \\right )} \\frac{d}{d t} \\operatorname{a0}{\\left (t \\right )} - \\beta \\delta_{P}^{3} k_{1} \\operatorname{a2}{\\left (t \\right )} - \\delta_{A} \\delta_{P}^{3} k_{1} \\operatorname{a2}{\\left (t \\right )} - 2 \\delta_{P}^{3} \\epsilon k_{1} \\operatorname{a0}{\\left (t \\right )} \\operatorname{a2}{\\left (t \\right )} - \\delta_{P}^{3} \\epsilon k_{1} \\operatorname{a1}^{2}{\\left (t \\right )} - \\delta_{P}^{3} k_{1} \\frac{d}{d t} \\operatorname{a2}{\\left (t \\right )}$$"
       ],
       "metadata": {},
       "output_type": "pyout",
       "png": "[encoded data removed]",
       "prompt_number": 74,
       "text": [
        " 3     3               3     2                     3     2                    \n",
        "R \u22c5\u03b1\u22c5a\u2080 (t)\u22c5m\u2082(t) + 3\u22c5R \u22c5\u03b1\u22c5a\u2080 (t)\u22c5e\u2081(t)\u22c5m\u2081(t) + 3\u22c5R \u22c5\u03b1\u22c5a\u2080 (t)\u22c5e\u2082(t)\u22c5m\u2080(t) + 3\u22c5\n",
        "                                                                              \n",
        "\n",
        " 3           2             3     3               3     3               3     2\n",
        "R \u22c5\u03b1\u22c5a\u2080(t)\u22c5e\u2081 (t)\u22c5m\u2080(t) - R \u22c5\u03b2\u22c5a\u2080 (t)\u22c5a\u2082(t) - 3\u22c5R \u22c5\u03b2\u22c5a\u2080 (t)\u22c5e\u2082(t) - 3\u22c5R \u22c5\u03b2\u22c5a\u2080 \n",
        "                                                                              \n",
        "\n",
        "                     3     2      2       3       3               3       3   \n",
        "(t)\u22c5a\u2081(t)\u22c5e\u2081(t) - 3\u22c5R \u22c5\u03b2\u22c5a\u2080 (t)\u22c5e\u2081 (t) - R \u22c5\u03b4_A\u22c5a\u2080 (t)\u22c5a\u2082(t) - 3\u22c5R \u22c5\u03b4_A\u22c5a\u2080 (t)\n",
        "                                                                              \n",
        "\n",
        "            3       2                     3       2      2         3     4    \n",
        "\u22c5e\u2082(t) - 3\u22c5R \u22c5\u03b4_A\u22c5a\u2080 (t)\u22c5a\u2081(t)\u22c5e\u2081(t) - 3\u22c5R \u22c5\u03b4_A\u22c5a\u2080 (t)\u22c5e\u2081 (t) - 2\u22c5R \u22c5\u03b5\u22c5a\u2080 (t)\u22c5\n",
        "                                                                              \n",
        "\n",
        "           3     4             3     3      2         3     3                 \n",
        "a\u2082(t) - 3\u22c5R \u22c5\u03b5\u22c5a\u2080 (t)\u22c5e\u2082(t) - R \u22c5\u03b5\u22c5a\u2080 (t)\u22c5a\u2081 (t) - 6\u22c5R \u22c5\u03b5\u22c5a\u2080 (t)\u22c5a\u2081(t)\u22c5e\u2081(t) -\n",
        "                                                                              \n",
        "\n",
        "    3     3      2         3     2               3           2       3   3    \n",
        " 3\u22c5R \u22c5\u03b5\u22c5a\u2080 (t)\u22c5e\u2081 (t) + 3\u22c5R \u22c5\u03c3\u22c5a\u2080 (t)\u22c5e\u2082(t) + 3\u22c5R \u22c5\u03c3\u22c5a\u2080(t)\u22c5e\u2081 (t) - R \u22c5a\u2080 (t)\u22c5\n",
        "                                                                              \n",
        "\n",
        "d              3   2          d              3   2          d              3  \n",
        "\u2500\u2500(a\u2082(t)) - 3\u22c5R \u22c5a\u2080 (t)\u22c5e\u2081(t)\u22c5\u2500\u2500(a\u2081(t)) - 3\u22c5R \u22c5a\u2080 (t)\u22c5e\u2082(t)\u22c5\u2500\u2500(a\u2080(t)) - 3\u22c5R \u22c5a\n",
        "dt                            dt                            dt                \n",
        "\n",
        "       2    d                3                   3                 3          \n",
        "\u2080(t)\u22c5e\u2081 (t)\u22c5\u2500\u2500(a\u2080(t)) - \u03b2\u22c5\u03b4_P \u22c5k\u2081\u22c5a\u2082(t) - \u03b4_A\u22c5\u03b4_P \u22c5k\u2081\u22c5a\u2082(t) - 2\u22c5\u03b4_P \u22c5\u03b5\u22c5k\u2081\u22c5a\u2080(t\n",
        "            dt                                                                \n",
        "\n",
        "             3        2         3    d        \n",
        ")\u22c5a\u2082(t) - \u03b4_P \u22c5\u03b5\u22c5k\u2081\u22c5a\u2081 (t) - \u03b4_P \u22c5k\u2081\u22c5\u2500\u2500(a\u2082(t))\n",
        "                                     dt       "
       ]
      }
     ],
     "prompt_number": 74
    },
    {
     "cell_type": "code",
     "collapsed": false,
     "input": [],
     "language": "python",
     "metadata": {},
     "outputs": [
      {
       "ename": "NameError",
       "evalue": "name 'delta_A' is not defined",
       "output_type": "pyerr",
       "traceback": [
        "\u001b[1;31m---------------------------------------------------------------------------\u001b[0m\n\u001b[1;31mNameError\u001b[0m                                 Traceback (most recent call last)",
        "\u001b[1;32m<ipython-input-15-3dcb857275fa>\u001b[0m in \u001b[0;36m<module>\u001b[1;34m()\u001b[0m\n\u001b[1;32m----> 1\u001b[1;33m lm = Matrix([[-(beta + delta_A) - epsilon*A, f1(p)*alpha, R**3*E(t)**2/(delta_P**3*(R**3*E(t)**3/delta_P**3 + k1))],\n\u001b[0m\u001b[0;32m      2\u001b[0m              \u001b[1;33m[\u001b[0m\u001b[1;36m8\u001b[0m\u001b[1;33m*\u001b[0m\u001b[0mbeta\u001b[0m\u001b[1;33m*\u001b[0m\u001b[0mf2\u001b[0m\u001b[1;33m(\u001b[0m\u001b[0mp\u001b[0m\u001b[1;33m)\u001b[0m\u001b[1;33m,\u001b[0m \u001b[1;33m-\u001b[0m \u001b[0mf1\u001b[0m\u001b[1;33m(\u001b[0m\u001b[0mp\u001b[0m\u001b[1;33m)\u001b[0m\u001b[1;33m*\u001b[0m\u001b[0malpha\u001b[0m \u001b[1;33m-\u001b[0m \u001b[0mdelta_M\u001b[0m\u001b[1;33m,\u001b[0m \u001b[1;36m0\u001b[0m\u001b[1;33m]\u001b[0m\u001b[1;33m,\u001b[0m\u001b[1;33m\u001b[0m\u001b[0m\n\u001b[0;32m      3\u001b[0m              [60*beta*(1 - f2(p)), 0, -delta_E]])\n",
        "\u001b[1;31mNameError\u001b[0m: name 'delta_A' is not defined"
       ]
      }
     ],
     "prompt_number": 15
    },
    {
     "cell_type": "code",
     "collapsed": false,
     "input": [
      "repr(f1(p)/E)"
     ],
     "language": "python",
     "metadata": {},
     "outputs": [
      {
       "metadata": {},
       "output_type": "pyout",
       "prompt_number": 9,
       "text": [
        "'R**3*E(t)**2/(delta_P**3*(R**3*E(t)**3/delta_P**3 + k1))'"
       ]
      }
     ],
     "prompt_number": 9
    },
    {
     "cell_type": "code",
     "collapsed": false,
     "input": [],
     "language": "python",
     "metadata": {},
     "outputs": []
    }
   ],
   "metadata": {}
  }
 ]
}