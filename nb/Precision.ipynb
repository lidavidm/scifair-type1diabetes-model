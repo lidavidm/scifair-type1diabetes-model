{
 "metadata": {
  "name": ""
 },
 "nbformat": 3,
 "nbformat_minor": 0,
 "worksheets": [
  {
   "cells": [
    {
     "cell_type": "code",
     "collapsed": false,
     "input": [
      "from mpmath import mpf, mp\n",
      "import pickle\n",
      "import sys\n",
      "%pylab inline --no-import-all\n",
      "from pylab import *\n",
      "\n",
      "# Constants for bits of significand precision\n",
      "# TODO these should be for mp.prec, not mp.dps\n",
      "SINGLE = 24\n",
      "DOUBLE = 53\n",
      "\n",
      "def vectorize(functions):\n",
      "    \"\"\"\n",
      "    Takes a list of functions and returns a function that accepts a list of\n",
      "    values and applies each function given to the list of values.\n",
      "    \"\"\"\n",
      "    def _vectorized(x, ys):\n",
      "        return tuple(f(x, *ys) for f in functions)\n",
      "\n",
      "    return _vectorized\n",
      "\n",
      "def inc_vec(vec, inc):\n",
      "    return [x + inc for x in vec]\n",
      "\n",
      "def add_vec(*vecs):\n",
      "    return [sum(nums) for nums in zip(*vecs)]\n",
      "\n",
      "def mul_vec(vec, mul):\n",
      "    return [x * mul for x in vec]\n",
      "\n",
      "def rk4_system(y, x0, y0, h, steps):\n",
      "    \"\"\"\n",
      "    y: list of ODE\n",
      "    y0: vector (tuple) of initial y values\n",
      "    Finds y(x0 + h * steps)\n",
      "    \"\"\"\n",
      "    x1 = x0\n",
      "    y1 = list(y0)\n",
      "    xs = [x0]\n",
      "    ys = [[y0[i]] for i,f in enumerate(y)]\n",
      "\n",
      "    f = vectorize(y)\n",
      "\n",
      "    for i in range(steps):\n",
      "        k1 = f(x1, y1)\n",
      "        k2 = f(x1 + (h / 2), add_vec(y1, mul_vec(k1, h / 2)))\n",
      "        k3 = f(x1 + (h / 2), add_vec(y1, mul_vec(k2, h / 2)))\n",
      "        k4 = f(x1 + h, add_vec(y1, mul_vec(k3, h)))\n",
      "\n",
      "        y1 = add_vec(y1, mul_vec(add_vec(k1, mul_vec(k2, 2), mul_vec(k3, 2), k4), h / 6))\n",
      "        for i, val in enumerate(y1):\n",
      "            ys[i].append(val)\n",
      "        x1 += h\n",
      "        xs.append(x1)\n",
      "\n",
      "    return xs, ys\n",
      "\n",
      "\n",
      "def runrange(file_suffix, a15rate, precision, steps):\n",
      "    IS_MPMATH = isinstance(precision, int)\n",
      "    print(\"Using mpmath:\", IS_MPMATH)\n",
      "    if IS_MPMATH:\n",
      "        a1 = mpf('2')\n",
      "        a2 = mpf('2')\n",
      "        a3 = mpf('3')\n",
      "        a4 = mpf('0.7')\n",
      "        a5 = mpf('1')\n",
      "        a6 = mpf('0.02')\n",
      "        a7 = mpf('20')\n",
      "        a8 = mpf('1')\n",
      "        a9 = mpf('1')\n",
      "        a10 = mpf('1')\n",
      "        a11 = mpf('0.01')\n",
      "        a12 = mpf('0.1')\n",
      "        a13 = mpf('0.3')\n",
      "        a14 = mpf('50')\n",
      "        a16 = mpf('0.1')\n",
      "        a17 = mpf('0.14')\n",
      "        B = mpf('1')\n",
      "        start = mpf('0')\n",
      "        initialconds = (mpf('0.5'), mpf('0'), mpf('1'), mpf('0.1'))\n",
      "        delta = mpf('0.1')\n",
      "    \n",
      "        mp.dps = precision\n",
      "        print(\"Precision:\", mp.dps)\n",
      "    else:\n",
      "        a1 = 2.0\n",
      "        a2 = 2.0\n",
      "        a3 = 3.0\n",
      "        a4 = 0.7\n",
      "        a5 = 1.0\n",
      "        a6 = 0.02\n",
      "        a7 = 20.0\n",
      "        a8 = 1.0\n",
      "        a9 = 1.0\n",
      "        a10 = 1.0\n",
      "        a11 = 0.01\n",
      "        a12 = 0.1\n",
      "        a13 = 0.3\n",
      "        a14 = 50.0\n",
      "        a16 = 0.1\n",
      "        a17 = 0.14\n",
      "        B = 1\n",
      "        start = 0.0\n",
      "        initialconds = (0.5, 0.0, 1.0, 0.1)\n",
      "        delta = 0.1\n",
      "        print(\"Precision: Python float (double)\", sys.float_info)\n",
      "    f1 = lambda p: p**a1 / (a2**a1 + p**a1)\n",
      "    f2 = lambda p: a4 * a5**a3 / (a5**a3 + p**a3)\n",
      "    p = lambda E, a15: (a14 * E * B) / a15\n",
      "    \n",
      "    y = [\n",
      "        lambda t, A, M, E, a15: f1(p(E,a15))*(a6+a7*M)-a8*A-a9*A**2, #dA/dt\n",
      "        lambda t, A, M, E, a15: a10*f2(p(E,a15))*A-f1(p(E,a15))*a16*a7*M-a11*M, #dM/dt\n",
      "        lambda t, A, M, E, a15: a12*(1-f2(p(E,a15)))*A-a13*E, #dE/dt,\n",
      "        lambda t, A, M, E, a15: a15rate\n",
      "    ]\n",
      "    xs, ys = rk4_system(y, start, initialconds, delta, steps)\n",
      "    pickle.dump(list(zip(xs, *ys)), open('time_py_np_{}.dat'.format(file_suffix), 'wb'))"
     ],
     "language": "python",
     "metadata": {},
     "outputs": [
      {
       "output_type": "stream",
       "stream": "stdout",
       "text": [
        "Populating the interactive namespace from numpy and matplotlib\n"
       ]
      }
     ],
     "prompt_number": 62
    },
    {
     "cell_type": "code",
     "collapsed": false,
     "input": [
      "runrange('slow_single', 0.0002, float, 150000)\n",
      "#runrange('fast_single', mpf('0.01'), SINGLE)"
     ],
     "language": "python",
     "metadata": {},
     "outputs": [
      {
       "output_type": "stream",
       "stream": "stdout",
       "text": [
        "Using mpmath: False\n",
        "Precision: Python float (double) sys.float_info(max=1.7976931348623157e+308, max_exp=1024, max_10_exp=308, min=2.2250738585072014e-308, min_exp=-1021, min_10_exp=-307, dig=15, mant_dig=53, epsilon=2.220446049250313e-16, radix=2, rounds=1)\n"
       ]
      }
     ],
     "prompt_number": 42
    },
    {
     "cell_type": "code",
     "collapsed": false,
     "input": [
      "runrange('slow_100', mpf('0.0002'), 100, 150000)\n",
      "#runrange('fast_double', mpf('0.01'), DOUBLE)"
     ],
     "language": "python",
     "metadata": {},
     "outputs": [
      {
       "output_type": "stream",
       "stream": "stdout",
       "text": [
        "Using mpmath: True\n",
        "Precision: 100\n"
       ]
      }
     ],
     "prompt_number": 46
    },
    {
     "cell_type": "code",
     "collapsed": false,
     "input": [
      "ssingle = pickle.load(open('time_py_np_slow_single.dat', 'rb'))\n",
      "sdouble = pickle.load(open('time_py_np_slow_100.dat', 'rb'))"
     ],
     "language": "python",
     "metadata": {},
     "outputs": [],
     "prompt_number": 47
    },
    {
     "cell_type": "code",
     "collapsed": false,
     "input": [
      "matplotlib.rcParams.update({'font.size': 14})\n",
      "matplotlib.rcParams.update({'figure.autolayout': True})"
     ],
     "language": "python",
     "metadata": {},
     "outputs": [],
     "prompt_number": 93
    },
    {
     "cell_type": "code",
     "collapsed": false,
     "input": [
      "figure()\n",
      "title(\"Python float (double precision; 53 bits)\")\n",
      "plot([float(x[4]) for x in ssingle], [float(x[1]) for x in ssingle])\n",
      "xlabel(\"delta_p\")\n",
      "ylabel(\"A\")\n",
      "axvline(0.5707, color='black')\n",
      "axhline(color='black')\n",
      "annotate(\"Hopf bifurcation\", (0.5707, 2), xytext=(0.8,2.5), arrowprops=dict(facecolor='black',lw=0.01))\n",
      "savefig(\"precision_double.png\")"
     ],
     "language": "python",
     "metadata": {},
     "outputs": [
      {
       "metadata": {},
       "output_type": "display_data",
       "png": "[encoded data removed]",
       "text": [
        "<matplotlib.figure.Figure at 0x7f730b01cbd0>"
       ]
      }
     ],
     "prompt_number": 94
    },
    {
     "cell_type": "code",
     "collapsed": false,
     "input": [
      "figure()\n",
      "title(\"mpmath float (336 bits precision)\")\n",
      "ylim(0,3)\n",
      "plot([float(x[4]) for x in sdouble], [float(x[1]) for x in sdouble])\n",
      "xlabel(\"delta_p\")\n",
      "ylabel(\"A\")\n",
      "axvline(0.5707, color='black')\n",
      "axhline(color='black')\n",
      "annotate(\"Hopf bifurcation\", (0.5707, 2), xytext=(0.8,2.5), arrowprops=dict(facecolor='black',lw=0.01))\n",
      "savefig(\"precision_100.png\")"
     ],
     "language": "python",
     "metadata": {},
     "outputs": [
      {
       "metadata": {},
       "output_type": "display_data",
       "png": "[encoded data removed]",
       "text": [
        "<matplotlib.figure.Figure at 0x7f72e6265510>"
       ]
      }
     ],
     "prompt_number": 97
    },
    {
     "cell_type": "code",
     "collapsed": false,
     "input": [],
     "language": "python",
     "metadata": {},
     "outputs": []
    }
   ],
   "metadata": {}
  }
 ]
}